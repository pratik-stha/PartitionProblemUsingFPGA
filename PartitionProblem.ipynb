{
 "cells": [
  {
   "cell_type": "markdown",
   "metadata": {},
   "source": [
    "# Import overlay in Python"
   ]
  },
  {
   "cell_type": "code",
   "execution_count": 12,
   "metadata": {},
   "outputs": [],
   "source": [
    "from pynq import Overlay\n",
    "from pynq import Xlnk\n",
    "import numpy as np\n",
    "import time\n",
    "\n",
    "#Import Overlay \n",
    "ol=Overlay('CheckPartition.bit')\n",
    "partition_ip=ol.CheckPartition_0"
   ]
  },
  {
   "cell_type": "code",
   "execution_count": 13,
   "metadata": {},
   "outputs": [],
   "source": [
    "#function that takes the array with first element denoting value of n\n",
    "# returns the result\n",
    "def CheckPartition(numbers): \n",
    "    length=len(numbers)\n",
    "    inpt=Xlnk().cma_array(shape=(length,),dtype=np.int32)\n",
    "    np.copyto(inpt,numbers)\n",
    " \n",
    "    partition_ip.write(0x18,inpt.physical_address) #Transfer all array numbers into memory\n",
    "    partition_ip.write(0x00,1)                     # start the process\n",
    "    while partition_ip.read(0x00)!= 0x04:\n",
    "        pass\n",
    "    return partition_ip.read(0x10)                 #result is stored in this address"
   ]
  },
  {
   "cell_type": "code",
   "execution_count": 18,
   "metadata": {},
   "outputs": [
    {
     "name": "stdout",
     "output_type": "stream",
     "text": [
      "0\n",
      "Exection Time: 0.007008075714111328\n"
     ]
    }
   ],
   "source": [
    "numbers=[4,1,2,2,91]\n",
    "import time\n",
    "start= time.time()\n",
    "print(CheckPartition(numbers))\n",
    "end = time.time()\n",
    "total = end-start\n",
    "print(\"Exection Time: \"+ str(total))"
   ]
  }
 ],
 "metadata": {
  "kernelspec": {
   "display_name": "Python 3",
   "language": "python",
   "name": "python3"
  },
  "language_info": {
   "codemirror_mode": {
    "name": "ipython",
    "version": 3
   },
   "file_extension": ".py",
   "mimetype": "text/x-python",
   "name": "python",
   "nbconvert_exporter": "python",
   "pygments_lexer": "ipython3",
   "version": "3.6.5"
  }
 },
 "nbformat": 4,
 "nbformat_minor": 2
}
